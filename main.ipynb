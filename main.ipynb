{
 "cells": [
  {
   "cell_type": "code",
   "execution_count": 11,
   "metadata": {},
   "outputs": [],
   "source": [
    "import numpy as np\n",
    "import pandas as pd\n",
    "import matplotlib.pyplot as plt"
   ]
  },
  {
   "cell_type": "code",
   "execution_count": 8,
   "metadata": {},
   "outputs": [],
   "source": [
    "data = pd.read_csv('AI_Human.csv')\n",
    "#AI is represented by 1 and Human is represented by 0"
   ]
  },
  {
   "cell_type": "code",
   "execution_count": 16,
   "metadata": {},
   "outputs": [],
   "source": [
    "#print(data.head())\n",
    "#print(data.describe())\n",
    "#print(data.shape)\n",
    "#print(data.columns)\n",
    "#print(data.isnull().sum())\n",
    "#print(data.info())"
   ]
  },
  {
   "cell_type": "code",
   "execution_count": 29,
   "metadata": {},
   "outputs": [
    {
     "data": {
      "text/html": [
       "<div>\n",
       "<style scoped>\n",
       "    .dataframe tbody tr th:only-of-type {\n",
       "        vertical-align: middle;\n",
       "    }\n",
       "\n",
       "    .dataframe tbody tr th {\n",
       "        vertical-align: top;\n",
       "    }\n",
       "\n",
       "    .dataframe thead th {\n",
       "        text-align: right;\n",
       "    }\n",
       "</style>\n",
       "<table border=\"1\" class=\"dataframe\">\n",
       "  <thead>\n",
       "    <tr style=\"text-align: right;\">\n",
       "      <th></th>\n",
       "      <th>text</th>\n",
       "      <th>generated</th>\n",
       "      <th>length</th>\n",
       "    </tr>\n",
       "  </thead>\n",
       "  <tbody>\n",
       "    <tr>\n",
       "      <th>0</th>\n",
       "      <td>Cars. Cars have been around since they became ...</td>\n",
       "      <td>0.0</td>\n",
       "      <td>3289</td>\n",
       "    </tr>\n",
       "    <tr>\n",
       "      <th>1</th>\n",
       "      <td>Transportation is a large necessity in most co...</td>\n",
       "      <td>0.0</td>\n",
       "      <td>2738</td>\n",
       "    </tr>\n",
       "    <tr>\n",
       "      <th>2</th>\n",
       "      <td>\"America's love affair with it's vehicles seem...</td>\n",
       "      <td>0.0</td>\n",
       "      <td>4428</td>\n",
       "    </tr>\n",
       "    <tr>\n",
       "      <th>3</th>\n",
       "      <td>How often do you ride in a car? Do you drive a...</td>\n",
       "      <td>0.0</td>\n",
       "      <td>4013</td>\n",
       "    </tr>\n",
       "    <tr>\n",
       "      <th>4</th>\n",
       "      <td>Cars are a wonderful thing. They are perhaps o...</td>\n",
       "      <td>0.0</td>\n",
       "      <td>4698</td>\n",
       "    </tr>\n",
       "    <tr>\n",
       "      <th>...</th>\n",
       "      <td>...</td>\n",
       "      <td>...</td>\n",
       "      <td>...</td>\n",
       "    </tr>\n",
       "    <tr>\n",
       "      <th>487230</th>\n",
       "      <td>Tie Face on Mars is really just a big misunder...</td>\n",
       "      <td>0.0</td>\n",
       "      <td>968</td>\n",
       "    </tr>\n",
       "    <tr>\n",
       "      <th>487231</th>\n",
       "      <td>The whole purpose of democracy is to create a ...</td>\n",
       "      <td>0.0</td>\n",
       "      <td>2319</td>\n",
       "    </tr>\n",
       "    <tr>\n",
       "      <th>487232</th>\n",
       "      <td>I firmly believe that governments worldwide sh...</td>\n",
       "      <td>1.0</td>\n",
       "      <td>2392</td>\n",
       "    </tr>\n",
       "    <tr>\n",
       "      <th>487233</th>\n",
       "      <td>I DFN't agree with this decision because a LFT...</td>\n",
       "      <td>0.0</td>\n",
       "      <td>1668</td>\n",
       "    </tr>\n",
       "    <tr>\n",
       "      <th>487234</th>\n",
       "      <td>Richard Non, Jimmy Carter, and Bob Dole and ot...</td>\n",
       "      <td>0.0</td>\n",
       "      <td>1997</td>\n",
       "    </tr>\n",
       "  </tbody>\n",
       "</table>\n",
       "<p>487235 rows × 3 columns</p>\n",
       "</div>"
      ],
      "text/plain": [
       "                                                     text  generated  length\n",
       "0       Cars. Cars have been around since they became ...        0.0    3289\n",
       "1       Transportation is a large necessity in most co...        0.0    2738\n",
       "2       \"America's love affair with it's vehicles seem...        0.0    4428\n",
       "3       How often do you ride in a car? Do you drive a...        0.0    4013\n",
       "4       Cars are a wonderful thing. They are perhaps o...        0.0    4698\n",
       "...                                                   ...        ...     ...\n",
       "487230  Tie Face on Mars is really just a big misunder...        0.0     968\n",
       "487231  The whole purpose of democracy is to create a ...        0.0    2319\n",
       "487232  I firmly believe that governments worldwide sh...        1.0    2392\n",
       "487233  I DFN't agree with this decision because a LFT...        0.0    1668\n",
       "487234  Richard Non, Jimmy Carter, and Bob Dole and ot...        0.0    1997\n",
       "\n",
       "[487235 rows x 3 columns]"
      ]
     },
     "execution_count": 29,
     "metadata": {},
     "output_type": "execute_result"
    }
   ],
   "source": [
    "data"
   ]
  },
  {
   "cell_type": "code",
   "execution_count": 28,
   "metadata": {},
   "outputs": [
    {
     "data": {
      "text/plain": [
       "'Cars. Cars have been around since they became famous in the 1900s, when Henry Ford created and built the first ModelT. Cars have played a major role in our every day lives since then. But now, people are starting to question if limiting car usage would be a good thing. To me, limiting the use of cars might be a good thing to do.\\n\\nIn like matter of this, article, \"In German Suburb, Life Goes On Without Cars,\" by Elizabeth Rosenthal states, how automobiles are the linchpin of suburbs, where middle class families from either Shanghai or Chicago tend to make their homes. Experts say how this is a huge impediment to current efforts to reduce greenhouse gas emissions from tailpipe. Passenger cars are responsible for 12 percent of greenhouse gas emissions in Europe...and up to 50 percent in some carintensive areas in the United States. Cars are the main reason for the greenhouse gas emissions because of a lot of people driving them around all the time getting where they need to go. Article, \"Paris bans driving due to smog,\" by Robert Duffer says, how Paris, after days of nearrecord pollution, enforced a partial driving ban to clear the air of the global city. It also says, how on Monday, motorist with evennumbered license plates were ordered to leave their cars at home or be fined a 22euro fine 31. The same order would be applied to oddnumbered plates the following day. Cars are the reason for polluting entire cities like Paris. This shows how bad cars can be because, of all the pollution that they can cause to an entire city.\\n\\nLikewise, in the article, \"Carfree day is spinning into a big hit in Bogota,\" by Andrew Selsky says, how programs that\\'s set to spread to other countries, millions of Columbians hiked, biked, skated, or took the bus to work during a carfree day, leaving streets of this capital city eerily devoid of traffic jams. It was the third straight year cars have been banned with only buses and taxis permitted for the Day Without Cars in the capital city of 7 million. People like the idea of having carfree days because, it allows them to lesson the pollution that cars put out of their exhaust from people driving all the time. The article also tells how parks and sports centers have bustled throughout the city uneven, pitted sidewalks have been replaced by broad, smooth sidewalks rushhour restrictions have dramatically cut traffic and new restaurants and upscale shopping districts have cropped up. Having no cars has been good for the country of Columbia because, it has aloud them to repair things that have needed repairs for a long time, traffic jams have gone down, and restaurants and shopping districts have popped up, all due to the fact of having less cars around.\\n\\nIn conclusion, the use of less cars and having carfree days, have had a big impact on the environment of cities because, it is cutting down the air pollution that the cars have majorly polluted, it has aloud countries like Columbia to repair sidewalks, and cut down traffic jams. Limiting the use of cars would be a good thing for America. So we should limit the use of cars by maybe riding a bike, or maybe walking somewhere that isn\\'t that far from you and doesn\\'t need the use of a car to get you there. To me, limiting the use of cars might be a good thing to do.'"
      ]
     },
     "execution_count": 28,
     "metadata": {},
     "output_type": "execute_result"
    }
   ],
   "source": [
    "data['text'][0]"
   ]
  },
  {
   "cell_type": "code",
   "execution_count": 26,
   "metadata": {},
   "outputs": [
    {
     "data": {
      "text/html": [
       "<div>\n",
       "<style scoped>\n",
       "    .dataframe tbody tr th:only-of-type {\n",
       "        vertical-align: middle;\n",
       "    }\n",
       "\n",
       "    .dataframe tbody tr th {\n",
       "        vertical-align: top;\n",
       "    }\n",
       "\n",
       "    .dataframe thead th {\n",
       "        text-align: right;\n",
       "    }\n",
       "</style>\n",
       "<table border=\"1\" class=\"dataframe\">\n",
       "  <thead>\n",
       "    <tr style=\"text-align: right;\">\n",
       "      <th></th>\n",
       "      <th>text</th>\n",
       "      <th>generated</th>\n",
       "      <th>length</th>\n",
       "    </tr>\n",
       "  </thead>\n",
       "  <tbody>\n",
       "    <tr>\n",
       "      <th>0</th>\n",
       "      <td>Cars. Cars have been around since they became ...</td>\n",
       "      <td>0.0</td>\n",
       "      <td>3289</td>\n",
       "    </tr>\n",
       "    <tr>\n",
       "      <th>1</th>\n",
       "      <td>Transportation is a large necessity in most co...</td>\n",
       "      <td>0.0</td>\n",
       "      <td>2738</td>\n",
       "    </tr>\n",
       "    <tr>\n",
       "      <th>2</th>\n",
       "      <td>\"America's love affair with it's vehicles seem...</td>\n",
       "      <td>0.0</td>\n",
       "      <td>4428</td>\n",
       "    </tr>\n",
       "    <tr>\n",
       "      <th>3</th>\n",
       "      <td>How often do you ride in a car? Do you drive a...</td>\n",
       "      <td>0.0</td>\n",
       "      <td>4013</td>\n",
       "    </tr>\n",
       "    <tr>\n",
       "      <th>4</th>\n",
       "      <td>Cars are a wonderful thing. They are perhaps o...</td>\n",
       "      <td>0.0</td>\n",
       "      <td>4698</td>\n",
       "    </tr>\n",
       "    <tr>\n",
       "      <th>...</th>\n",
       "      <td>...</td>\n",
       "      <td>...</td>\n",
       "      <td>...</td>\n",
       "    </tr>\n",
       "    <tr>\n",
       "      <th>487230</th>\n",
       "      <td>Tie Face on Mars is really just a big misunder...</td>\n",
       "      <td>0.0</td>\n",
       "      <td>968</td>\n",
       "    </tr>\n",
       "    <tr>\n",
       "      <th>487231</th>\n",
       "      <td>The whole purpose of democracy is to create a ...</td>\n",
       "      <td>0.0</td>\n",
       "      <td>2319</td>\n",
       "    </tr>\n",
       "    <tr>\n",
       "      <th>487232</th>\n",
       "      <td>I firmly believe that governments worldwide sh...</td>\n",
       "      <td>1.0</td>\n",
       "      <td>2392</td>\n",
       "    </tr>\n",
       "    <tr>\n",
       "      <th>487233</th>\n",
       "      <td>I DFN't agree with this decision because a LFT...</td>\n",
       "      <td>0.0</td>\n",
       "      <td>1668</td>\n",
       "    </tr>\n",
       "    <tr>\n",
       "      <th>487234</th>\n",
       "      <td>Richard Non, Jimmy Carter, and Bob Dole and ot...</td>\n",
       "      <td>0.0</td>\n",
       "      <td>1997</td>\n",
       "    </tr>\n",
       "  </tbody>\n",
       "</table>\n",
       "<p>487235 rows × 3 columns</p>\n",
       "</div>"
      ],
      "text/plain": [
       "                                                     text  generated  length\n",
       "0       Cars. Cars have been around since they became ...        0.0    3289\n",
       "1       Transportation is a large necessity in most co...        0.0    2738\n",
       "2       \"America's love affair with it's vehicles seem...        0.0    4428\n",
       "3       How often do you ride in a car? Do you drive a...        0.0    4013\n",
       "4       Cars are a wonderful thing. They are perhaps o...        0.0    4698\n",
       "...                                                   ...        ...     ...\n",
       "487230  Tie Face on Mars is really just a big misunder...        0.0     968\n",
       "487231  The whole purpose of democracy is to create a ...        0.0    2319\n",
       "487232  I firmly believe that governments worldwide sh...        1.0    2392\n",
       "487233  I DFN't agree with this decision because a LFT...        0.0    1668\n",
       "487234  Richard Non, Jimmy Carter, and Bob Dole and ot...        0.0    1997\n",
       "\n",
       "[487235 rows x 3 columns]"
      ]
     },
     "execution_count": 26,
     "metadata": {},
     "output_type": "execute_result"
    }
   ],
   "source": [
    "data['length'] = data['text'].apply(len)\n",
    "data"
   ]
  },
  {
   "cell_type": "code",
   "execution_count": 9,
   "metadata": {},
   "outputs": [
    {
     "name": "stdout",
     "output_type": "stream",
     "text": [
      "Total : 487235\n",
      "Total text by AI : 181438\n",
      "Total text by Human : 305797\n",
      "Percentage of text by AI: 37.24 %\n",
      "Percentage of text by Human: 62.76 %\n"
     ]
    }
   ],
   "source": [
    "# Count total entries\n",
    "total_text = len(data['generated'])\n",
    "\n",
    "# Count AI-generated text\n",
    "text_by_ai = data['generated'].eq(1.0).sum()\n",
    "\n",
    "# Count human-generated text\n",
    "text_by_human = data['generated'].eq(0.0).sum()\n",
    "\n",
    "# Print the results\n",
    "print(\"Total :\", total_text)\n",
    "print(\"Total text by AI :\", text_by_ai)\n",
    "print(\"Total text by Human :\", text_by_human)\n",
    "\n",
    "percentage_ai = (text_by_ai / total_text) * 100\n",
    "percentage_human = (text_by_human / total_text) * 100\n",
    "\n",
    "\n"
   ]
  },
  {
   "cell_type": "code",
   "execution_count": 13,
   "metadata": {},
   "outputs": [
    {
     "data": {
      "image/png": "[encoded data removed]",
      "text/plain": [
       "<Figure size 640x480 with 1 Axes>"
      ]
     },
     "metadata": {},
     "output_type": "display_data"
    }
   ],
   "source": [
    "categories = ['AI','Human']\n",
    "# Calculate the percentages\n",
    "percentages = [percentage_ai, percentage_human]\n",
    "\n",
    "# Create bar chart\n",
    "plt.bar(categories, percentages, color=['blue', 'green'])\n",
    "plt.ylabel('Percentage')\n",
    "plt.title('Distribution of Text by Source')\n",
    "plt.ylim(0, 100)\n",
    "\n",
    "# Add text annotations to the bars\n",
    "for i, percentage in enumerate(percentages):\n",
    "    plt.text(i, percentage, f'{percentage:.2f}%', ha='center', va='bottom')\n",
    "\n",
    "plt.show()\n"
   ]
  }
 ],
 "metadata": {
  "kernelspec": {
   "display_name": "Python 3",
   "language": "python",
   "name": "python3"
  },
  "language_info": {
   "codemirror_mode": {
    "name": "ipython",
    "version": 3
   },
   "file_extension": ".py",
   "mimetype": "text/x-python",
   "name": "python",
   "nbconvert_exporter": "python",
   "pygments_lexer": "ipython3",
   "version": "3.10.11"
  }
 },
 "nbformat": 4,
 "nbformat_minor": 2
}
