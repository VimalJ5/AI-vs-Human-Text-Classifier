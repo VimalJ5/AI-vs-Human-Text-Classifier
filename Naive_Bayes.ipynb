{
 "cells": [
  {
   "cell_type": "code",
   "execution_count": 2,
   "metadata": {},
   "outputs": [
    {
     "name": "stderr",
     "output_type": "stream",
     "text": [
      "[nltk_data] Downloading package punkt to\n",
      "[nltk_data]     C:\\Users\\aksha\\AppData\\Roaming\\nltk_data...\n",
      "[nltk_data]   Package punkt is already up-to-date!\n",
      "[nltk_data] Downloading package stopwords to\n",
      "[nltk_data]     C:\\Users\\aksha\\AppData\\Roaming\\nltk_data...\n",
      "[nltk_data]   Package stopwords is already up-to-date!\n",
      "[nltk_data] Downloading package wordnet to\n",
      "[nltk_data]     C:\\Users\\aksha\\AppData\\Roaming\\nltk_data...\n",
      "[nltk_data]   Package wordnet is already up-to-date!\n"
     ]
    },
    {
     "data": {
      "text/plain": [
       "device(type='cuda', index=0)"
      ]
     },
     "execution_count": 2,
     "metadata": {},
     "output_type": "execute_result"
    }
   ],
   "source": [
    "import pandas as pd\n",
    "import re\n",
    "import nltk\n",
    "from nltk.tokenize import word_tokenize\n",
    "nltk.download('punkt')\n",
    "from nltk.corpus import stopwords\n",
    "nltk.download('stopwords')\n",
    "from nltk.stem import WordNetLemmatizer\n",
    "nltk.download('wordnet')\n",
    "from sklearn.pipeline import Pipeline\n",
    "from sklearn.feature_extraction.text import CountVectorizer, TfidfTransformer\n",
    "from sklearn.naive_bayes import MultinomialNB\n",
    "import torch\n",
    "device = torch.device(\"cuda:0\" if torch.cuda.is_available() else \"cpu\")   \n",
    "device"
   ]
  },
  {
   "cell_type": "code",
   "execution_count": 3,
   "metadata": {},
   "outputs": [],
   "source": [
    "data = pd.read_csv('AI_Human.csv')"
   ]
  },
  {
   "cell_type": "code",
   "execution_count": 4,
   "metadata": {},
   "outputs": [
    {
     "name": "stdout",
     "output_type": "stream",
     "text": [
      "(487235, 2)\n",
      "(300000, 2)\n"
     ]
    }
   ],
   "source": [
    "data['generated'] = data['generated'].astype(int)\n",
    "print(data.shape)\n",
    "df0_text = data[data['generated'] == 0].copy()\n",
    "df1_ai = data[data['generated'] == 1].copy()\n",
    "df0_text= df0_text[:150000]\n",
    "df1_ai= df1_ai[:150000]\n",
    "data = pd.concat([df0_text,df1_ai], ignore_index=True) \n",
    "print(data.shape)"
   ]
  },
  {
   "cell_type": "code",
   "execution_count": 5,
   "metadata": {},
   "outputs": [],
   "source": [
    "def clean_text(text):\n",
    "    cleaning_pattern = r'[^a-zA-Z\\s]'\n",
    "\n",
    "    clean_text = re.sub(cleaning_pattern, '', text)\n",
    "\n",
    "    clean_text = clean_text.replace('\\n', ' ')\n",
    "\n",
    "    clean_text = re.sub(r'\\s+', ' ', clean_text)\n",
    "\n",
    "    return clean_text.strip()\n",
    "data['text'] = data['text'].apply(clean_text)\n",
    "data['text']= data['text'].str.lower()"
   ]
  },
  {
   "cell_type": "code",
   "execution_count": 6,
   "metadata": {},
   "outputs": [],
   "source": [
    "data['tokenized_text'] = data['text'].apply(lambda x: word_tokenize(x))"
   ]
  },
  {
   "cell_type": "code",
   "execution_count": 7,
   "metadata": {},
   "outputs": [],
   "source": [
    "stop_words = set(stopwords.words('english'))\n",
    "\n",
    "def remove_stopwords(tokens):\n",
    "    filtered_tokens = [word for word in tokens if word.lower() not in stop_words]\n",
    "    return filtered_tokens\n",
    "data['tokenized_text'] = data['tokenized_text'].apply(lambda x: remove_stopwords(x))\n"
   ]
  },
  {
   "cell_type": "code",
   "execution_count": 8,
   "metadata": {},
   "outputs": [],
   "source": [
    "lemmatizer = WordNetLemmatizer()\n",
    "\n",
    "def lemmatize_text(tokens):\n",
    "    lemmatized_tokens = [lemmatizer.lemmatize(word) for word in tokens]\n",
    "    return lemmatized_tokens\n",
    "\n",
    "data['lemmatized_text'] = data['tokenized_text'].apply(lemmatize_text)"
   ]
  },
  {
   "cell_type": "code",
   "execution_count": 9,
   "metadata": {},
   "outputs": [
    {
     "name": "stdout",
     "output_type": "stream",
     "text": [
      "Accuracy: 0.95575\n",
      "Precision: 0.956282646617336\n",
      "Recall: 0.95575\n",
      "F1 Score: 0.9557370822978025\n",
      "Confusion Matrix:\n",
      "[[29185   815]\n",
      " [ 1840 28160]]\n"
     ]
    }
   ],
   "source": [
    "from sklearn.metrics import accuracy_score, precision_recall_fscore_support\n",
    "X = data['tokenized_text'] # When working locally, change this part to 'lemmatized_text'\n",
    "y = data['generated']\n",
    "X = [' '.join(doc) for doc in X]\n",
    "from sklearn.model_selection import train_test_split\n",
    "\n",
    "X_train, X_test, y_train, y_test = train_test_split(X, y, test_size=0.2, random_state=42, stratify=y)\n",
    "\n",
    "pipeline_bayes = Pipeline([\n",
    "    ('count_vectorizer', CountVectorizer()), # Creates vectors using only word frequencies.\n",
    "    ('tfidf_transformer', TfidfTransformer()), # Determines uniqueness between documents and highlights important words.\n",
    "    ('naive_bayes', MultinomialNB())]) # Model\n",
    "\n",
    "pipeline_bayes.fit(X_train, y_train)\n",
    "y_pred_naive_bayes = pipeline_bayes.predict(X_test)\n",
    "accuracy = accuracy_score(y_test, y_pred_naive_bayes)\n",
    "precision, recall, f1, _ = precision_recall_fscore_support(y_test, y_pred_naive_bayes, average='weighted')\n",
    "\n",
    "print('Accuracy:', accuracy)\n",
    "print('Precision:', precision)\n",
    "print('Recall:', recall)\n",
    "print('F1 Score:', f1)\n",
    "\n",
    "from sklearn.metrics import confusion_matrix\n",
    "\n",
    "# Calculate confusion matrix\n",
    "conf_matrix = confusion_matrix(y_test, y_pred_naive_bayes)\n",
    "print(\"Confusion Matrix:\")\n",
    "print(conf_matrix)"
   ]
  },
  {
   "cell_type": "code",
   "execution_count": 23,
   "metadata": {},
   "outputs": [
    {
     "data": {
      "image/png": "[encoded data removed]",
      "text/plain": [
       "<Figure size 800x600 with 1 Axes>"
      ]
     },
     "metadata": {},
     "output_type": "display_data"
    }
   ],
   "source": [
    "import numpy as np\n",
    "import matplotlib.pyplot as plt\n",
    "import seaborn as sns\n",
    "\n",
    "# Define the confusion matrix values\n",
    "\n",
    "# Plot confusion matrix \n",
    "plt.figure(figsize=(8, 6))\n",
    "sns.heatmap(conf_matrix, annot=True, fmt=\"d\", cmap=\"Blues\", cbar=False)\n",
    "\n",
    "# Add labels to the heatmap\n",
    "plt.text(0.5, 0.4, 'True -ve', color='lightgreen', horizontalalignment='center', verticalalignment='center')\n",
    "plt.text(1.5, 0.4, 'False +ve', color='red', horizontalalignment='center', verticalalignment='center')\n",
    "plt.text(0.5, 1.4, 'False -ve', color='red', horizontalalignment='center', verticalalignment='center')\n",
    "plt.text(1.5, 1.4, 'True +ve', color='lightgreen', horizontalalignment='center', verticalalignment='center')\n",
    "\n",
    "plt.title(\"AI vs Human Text Confusion Matrix\")\n",
    "plt.xlabel(\"Predicted\")\n",
    "plt.ylabel(\"Actual\")\n",
    "plt.show()"
   ]
  }
 ],
 "metadata": {
  "kernelspec": {
   "display_name": "base",
   "language": "python",
   "name": "python3"
  },
  "language_info": {
   "codemirror_mode": {
    "name": "ipython",
    "version": 3
   },
   "file_extension": ".py",
   "mimetype": "text/x-python",
   "name": "python",
   "nbconvert_exporter": "python",
   "pygments_lexer": "ipython3",
   "version": "3.11.7"
  }
 },
 "nbformat": 4,
 "nbformat_minor": 2
}
